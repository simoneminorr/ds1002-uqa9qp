{
  "nbformat": 4,
  "nbformat_minor": 0,
  "metadata": {
    "colab": {
      "provenance": [],
      "include_colab_link": true
    },
    "kernelspec": {
      "name": "python3",
      "display_name": "Python 3"
    },
    "language_info": {
      "name": "python"
    }
  },
  "cells": [
    {
      "cell_type": "markdown",
      "metadata": {
        "id": "view-in-github",
        "colab_type": "text"
      },
      "source": [
        "<a href=\"https://colab.research.google.com/github/simoneminorr/ds1002-uqa9qp/blob/main/homework/week-3.ipynb\" target=\"_parent\"><img src=\"https://colab.research.google.com/assets/colab-badge.svg\" alt=\"Open In Colab\"/></a>"
      ]
    },
    {
      "cell_type": "markdown",
      "source": [
        "# Homework - Week 3\n",
        "\n",
        "Complete the following blocks as specified in the directions. Run each cell to return the desired output. Save your notebook back to your GitHub repository and submit the GitHub URL for your notebook for grading."
      ],
      "metadata": {
        "id": "xJ6ZWHKXW4qY"
      }
    },
    {
      "cell_type": "markdown",
      "source": [
        "## 1. Variables\n",
        "\n",
        "Declare and populate three variables below. Be sure your code outputs each variable:\n",
        "\n",
        "1. Containing a string\n",
        "2. Containing a boolean\n",
        "3. Containing an integer"
      ],
      "metadata": {
        "id": "j0mCENI3XK2i"
      }
    },
    {
      "cell_type": "code",
      "execution_count": 5,
      "metadata": {
        "id": "mdX0VBQgW1-9",
        "colab": {
          "base_uri": "https://localhost:8080/"
        },
        "outputId": "3d0f42c0-1f84-4d35-8064-1287c723d5b5"
      },
      "outputs": [
        {
          "output_type": "stream",
          "name": "stdout",
          "text": [
            "Live, Laugh, Love \n",
            "False\n",
            "23\n"
          ]
        }
      ],
      "source": [
        "# Put answers below\n",
        "#string\n",
        "string1= \"Live, Laugh, Love \"\n",
        "print(string1)\n",
        "#boolean (TRUE/FALSE)\n",
        "print (24*7+8==9*4/3)\n",
        "#integer\n",
        "x= 23\n",
        "print(x)"
      ]
    },
    {
      "cell_type": "markdown",
      "source": [
        "## 2. String Manipulation\n",
        "\n",
        "Take the following string and, using python commands, show how to fulfill the requested task. Be sure your code outputs the requested data.\n",
        "\n",
        "String: \"Go Hoos, Beat JMU!\"\n",
        "\n",
        "1. Write a command that extracts the first 8 characters of the string.\n",
        "2. Write a command that extracts the last 4 characters of the string."
      ],
      "metadata": {
        "id": "atxtPF2-XXiW"
      }
    },
    {
      "cell_type": "code",
      "source": [
        "# Put answers below\n",
        "string2= \"Go Hoos, Beat JMU!\"\n",
        "#First 8 characters\n",
        "string2[:8]"
      ],
      "metadata": {
        "id": "2szfLXZcYC_7",
        "colab": {
          "base_uri": "https://localhost:8080/",
          "height": 35
        },
        "outputId": "18e9ef5a-9bba-474c-94e4-6807a07a3a87"
      },
      "execution_count": 17,
      "outputs": [
        {
          "output_type": "execute_result",
          "data": {
            "text/plain": [
              "'Go Hoos,'"
            ],
            "application/vnd.google.colaboratory.intrinsic+json": {
              "type": "string"
            }
          },
          "metadata": {},
          "execution_count": 17
        }
      ]
    },
    {
      "cell_type": "code",
      "source": [
        "# Put answers below\n",
        "#Last 4 characters\n",
        "string2[-4:]"
      ],
      "metadata": {
        "id": "v3fvvKP4ZUvJ",
        "colab": {
          "base_uri": "https://localhost:8080/",
          "height": 35
        },
        "outputId": "82637cd3-ca39-4590-a0ef-8b076b1752e1"
      },
      "execution_count": 18,
      "outputs": [
        {
          "output_type": "execute_result",
          "data": {
            "text/plain": [
              "'JMU!'"
            ],
            "application/vnd.google.colaboratory.intrinsic+json": {
              "type": "string"
            }
          },
          "metadata": {},
          "execution_count": 18
        }
      ]
    },
    {
      "cell_type": "markdown",
      "source": [
        "# 3. Concatenation\n",
        "\n",
        "1. Declare any two string variables and concatenate them.\n",
        "2. Declare a string parameter and concatenate another hard-coded phrase with it."
      ],
      "metadata": {
        "id": "GeXcT_9sYEdx"
      }
    },
    {
      "cell_type": "code",
      "source": [
        "#Declare any two string variables and concatenate them.\n",
        "string1= \"Live, Laugh, Love, \"\n",
        "string2= \"Crochet\"\n",
        "string3= string1+string2\n",
        "print(string3)"
      ],
      "metadata": {
        "colab": {
          "base_uri": "https://localhost:8080/"
        },
        "id": "oU8z--1v44QP",
        "outputId": "82c02034-c184-4650-b42b-13b0470cfe41"
      },
      "execution_count": 3,
      "outputs": [
        {
          "output_type": "stream",
          "name": "stdout",
          "text": [
            "Live, Laugh, Love, Crochet\n"
          ]
        }
      ]
    },
    {
      "cell_type": "code",
      "source": [
        "#Declare a string parameter and concatenate another hard-coded phrase with it.\n",
        "string1+string2+ \"and Love Again\"\n",
        "print(string3 + \" and Love Again\")"
      ],
      "metadata": {
        "colab": {
          "base_uri": "https://localhost:8080/"
        },
        "id": "7oj3Rt2r44lW",
        "outputId": "b01c6b8d-353d-4ceb-8560-9b03994c2d15"
      },
      "execution_count": 5,
      "outputs": [
        {
          "output_type": "stream",
          "name": "stdout",
          "text": [
            "Live, Laugh, Love, Crochet and Love Again\n"
          ]
        }
      ]
    },
    {
      "cell_type": "markdown",
      "source": [
        "# 4. Math Operations\n",
        "\n",
        "Using the following numeric variables, write Python code that fulfills the requested operations. Be sure your code outputs the correct results.\n",
        "\n",
        "```python\n",
        "var1 = 9\n",
        "var2 = 12\n",
        "var3 = 48\n",
        "var4 = 4\n",
        "```\n",
        "\n",
        "1. Divide var3 by var2\n",
        "2. Multiply var1 by var4\n",
        "3. Write a Python expression that gives a result of `16`."
      ],
      "metadata": {
        "id": "DkVtHJBoYW34"
      }
    },
    {
      "cell_type": "code",
      "source": [
        "# Put answers below\n",
        "var1= 9\n",
        "var2= 12\n",
        "var3=48\n",
        "var4=4\n",
        "var3//var2"
      ],
      "metadata": {
        "id": "db5UdbrVZSiJ",
        "colab": {
          "base_uri": "https://localhost:8080/"
        },
        "outputId": "e27451f8-b613-4932-ae4b-6bdbab540784"
      },
      "execution_count": 24,
      "outputs": [
        {
          "output_type": "execute_result",
          "data": {
            "text/plain": [
              "4"
            ]
          },
          "metadata": {},
          "execution_count": 24
        }
      ]
    },
    {
      "cell_type": "code",
      "source": [
        "#multiply var1 by var4\n",
        "var1*var4"
      ],
      "metadata": {
        "colab": {
          "base_uri": "https://localhost:8080/"
        },
        "id": "7O_0EyNGX2zZ",
        "outputId": "4741c668-2870-4e70-82ea-9c31c02ab0fd"
      },
      "execution_count": 25,
      "outputs": [
        {
          "output_type": "execute_result",
          "data": {
            "text/plain": [
              "36"
            ]
          },
          "metadata": {},
          "execution_count": 25
        }
      ]
    },
    {
      "cell_type": "code",
      "source": [
        "#write python expression that gives a result of 16\n",
        "var3//var2*var4"
      ],
      "metadata": {
        "colab": {
          "base_uri": "https://localhost:8080/"
        },
        "id": "Ly4ofDtWX2AX",
        "outputId": "d74b983e-2e09-45a3-d72c-cec93bd95f94"
      },
      "execution_count": 26,
      "outputs": [
        {
          "output_type": "execute_result",
          "data": {
            "text/plain": [
              "16"
            ]
          },
          "metadata": {},
          "execution_count": 26
        }
      ]
    }
  ]
}