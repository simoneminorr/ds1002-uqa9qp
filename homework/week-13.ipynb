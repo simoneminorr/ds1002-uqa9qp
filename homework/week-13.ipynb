{
  "nbformat": 4,
  "nbformat_minor": 0,
  "metadata": {
    "colab": {
      "provenance": [],
      "include_colab_link": true
    },
    "kernelspec": {
      "name": "ir",
      "display_name": "R"
    },
    "language_info": {
      "name": "R"
    }
  },
  "cells": [
    {
      "cell_type": "markdown",
      "metadata": {
        "id": "view-in-github",
        "colab_type": "text"
      },
      "source": [
        "<a href=\"https://colab.research.google.com/github/simoneminorr/ds1002-uqa9qp/blob/main/homework/week-13.ipynb\" target=\"_parent\"><img src=\"https://colab.research.google.com/assets/colab-badge.svg\" alt=\"Open In Colab\"/></a>"
      ]
    },
    {
      "cell_type": "markdown",
      "source": [
        "# Homework - Week 13\n",
        "\n",
        "Complete the following blocks as specified in the directions. Run each cell to return the desired output. Save your notebook back to your GitHub repository and submit the GitHub URL to your notebook for review."
      ],
      "metadata": {
        "id": "sZruw3XQogej"
      }
    },
    {
      "cell_type": "markdown",
      "source": [
        "## 1. Change Runtime to R (1 pt)\n",
        "\n",
        "Change the runtime of this notebook to R. You can verify that you are running R by displaying the current version you are running. Run the cell below and show the output."
      ],
      "metadata": {
        "id": "KmpG99aAokL9"
      }
    },
    {
      "cell_type": "code",
      "execution_count": 1,
      "metadata": {
        "id": "k03Z1NKAoZrW",
        "colab": {
          "base_uri": "https://localhost:8080/",
          "height": 285
        },
        "outputId": "1aa11bb2-f40c-4370-80e6-4f42cedd5e62"
      },
      "outputs": [
        {
          "output_type": "display_data",
          "data": {
            "text/plain": [
              "               _                           \n",
              "platform       x86_64-pc-linux-gnu         \n",
              "arch           x86_64                      \n",
              "os             linux-gnu                   \n",
              "system         x86_64, linux-gnu           \n",
              "status                                     \n",
              "major          4                           \n",
              "minor          3.2                         \n",
              "year           2023                        \n",
              "month          10                          \n",
              "day            31                          \n",
              "svn rev        85441                       \n",
              "language       R                           \n",
              "version.string R version 4.3.2 (2023-10-31)\n",
              "nickname       Eye Holes                   "
            ]
          },
          "metadata": {}
        }
      ],
      "source": [
        "version"
      ]
    },
    {
      "cell_type": "markdown",
      "source": [
        "## 2. Create Vectors (2 pts)\n",
        "\n",
        "Create two vectors in the cells below, according to the prompts given."
      ],
      "metadata": {
        "id": "lkaofBQypx1X"
      }
    },
    {
      "cell_type": "code",
      "source": [
        "# create a vector with 7 integer values. Assign it to a variable named \"my_integers\"\n",
        "my_integers <- c(2,35,92,3,4,29,17)"
      ],
      "metadata": {
        "id": "1fjq5bkEp6Zv"
      },
      "execution_count": 2,
      "outputs": []
    },
    {
      "cell_type": "code",
      "source": [
        "var1 = 8\n",
        "var2 = 4\n",
        "var3 = 12\n",
        "var4 = 25\n",
        "\n",
        "var1 <- 8\n",
        "var2 <- 4\n",
        "var3 <- 12\n",
        "var4 <- 25\n",
        "\n",
        "var5 <- var2/var1\n",
        "var6 <- var2^3 * var3\n",
        "var7 <- var4/var3\n",
        "\n",
        "my_calculated_values <- array(c(var5,var6,var7), dim= c(4,4,3))\n",
        "\n",
        "# Using the variables given above, assign three new variables the following calculated values:\n",
        "#\n",
        "# 1. Your first variable should be assigned the calculated value of var2 divided by var1.\n",
        "# 2. Your second variable should be assigned the calculated value of var2 cubed times var3.\n",
        "# 3. Your third variable should be assigned the calculated value of var4 integer divided by var3.\n",
        "#\n",
        "# Next, create an array populated by your three variables. Assign the array to a new variable named \"my_calculated_values\""
      ],
      "metadata": {
        "id": "f3IFD-T6p6Rd"
      },
      "execution_count": null,
      "outputs": []
    },
    {
      "cell_type": "code",
      "source": [
        "var1 <- 8\n",
        "var2 <- 4\n",
        "var3 <- 12\n",
        "var4 <- 25\n",
        "\n",
        "var5 <- var2/var1\n",
        "var6 <- var2^3 * var3\n",
        "var7 <- var4/var3\n",
        "\n",
        "my_calculated_values <- array(c(var5,var6,var7), dim= c(4,3,1))\n",
        "print(my_calculated_values)"
      ],
      "metadata": {
        "colab": {
          "base_uri": "https://localhost:8080/"
        },
        "id": "CWDBLm04HWS4",
        "outputId": "5c949415-4151-44fe-855a-001eb10e61a5"
      },
      "execution_count": 6,
      "outputs": [
        {
          "output_type": "stream",
          "name": "stdout",
          "text": [
            ", , 1\n",
            "\n",
            "           [,1]       [,2]       [,3]\n",
            "[1,]   0.500000 768.000000   2.083333\n",
            "[2,] 768.000000   2.083333   0.500000\n",
            "[3,]   2.083333   0.500000 768.000000\n",
            "[4,]   0.500000 768.000000   2.083333\n",
            "\n"
          ]
        }
      ]
    },
    {
      "cell_type": "markdown",
      "source": [
        "## 3. Vector Indexes (3 pts)"
      ],
      "metadata": {
        "id": "F6Rx0GIGrpOB"
      }
    },
    {
      "cell_type": "markdown",
      "source": [
        "In the cell below, create a vector that starts with the integer 4, that increments by counts of 3 all the way to 28.\n",
        "\n",
        "Assign the vector to a variable name."
      ],
      "metadata": {
        "id": "IDLyOjOJsFCX"
      }
    },
    {
      "cell_type": "code",
      "source": [
        "#\n",
        "s1 <- seq(from=4, to=28, by=3)\n",
        "s1"
      ],
      "metadata": {
        "id": "0D5Ia-BPsoPZ",
        "colab": {
          "base_uri": "https://localhost:8080/",
          "height": 34
        },
        "outputId": "15b7dc5a-d079-4f86-8b03-574930042860"
      },
      "execution_count": 16,
      "outputs": [
        {
          "output_type": "display_data",
          "data": {
            "text/html": [
              "<style>\n",
              ".list-inline {list-style: none; margin:0; padding: 0}\n",
              ".list-inline>li {display: inline-block}\n",
              ".list-inline>li:not(:last-child)::after {content: \"\\00b7\"; padding: 0 .5ex}\n",
              "</style>\n",
              "<ol class=list-inline><li>4</li><li>7</li><li>10</li><li>13</li><li>16</li><li>19</li><li>22</li><li>25</li><li>28</li></ol>\n"
            ],
            "text/markdown": "1. 4\n2. 7\n3. 10\n4. 13\n5. 16\n6. 19\n7. 22\n8. 25\n9. 28\n\n\n",
            "text/latex": "\\begin{enumerate*}\n\\item 4\n\\item 7\n\\item 10\n\\item 13\n\\item 16\n\\item 19\n\\item 22\n\\item 25\n\\item 28\n\\end{enumerate*}\n",
            "text/plain": [
              "[1]  4  7 10 13 16 19 22 25 28"
            ]
          },
          "metadata": {}
        }
      ]
    },
    {
      "cell_type": "markdown",
      "source": [
        "Next, show how to display this vector with the 3 index removed."
      ],
      "metadata": {
        "id": "RxFRiRMvtfXI"
      }
    },
    {
      "cell_type": "code",
      "source": [
        "#\n",
        "s1[-3]"
      ],
      "metadata": {
        "id": "MBg7V1LztQlv",
        "colab": {
          "base_uri": "https://localhost:8080/",
          "height": 34
        },
        "outputId": "0cb2bb1b-1331-433b-dffd-c77deefce4e4"
      },
      "execution_count": 17,
      "outputs": [
        {
          "output_type": "display_data",
          "data": {
            "text/html": [
              "<style>\n",
              ".list-inline {list-style: none; margin:0; padding: 0}\n",
              ".list-inline>li {display: inline-block}\n",
              ".list-inline>li:not(:last-child)::after {content: \"\\00b7\"; padding: 0 .5ex}\n",
              "</style>\n",
              "<ol class=list-inline><li>4</li><li>7</li><li>13</li><li>16</li><li>19</li><li>22</li><li>25</li><li>28</li></ol>\n"
            ],
            "text/markdown": "1. 4\n2. 7\n3. 13\n4. 16\n5. 19\n6. 22\n7. 25\n8. 28\n\n\n",
            "text/latex": "\\begin{enumerate*}\n\\item 4\n\\item 7\n\\item 13\n\\item 16\n\\item 19\n\\item 22\n\\item 25\n\\item 28\n\\end{enumerate*}\n",
            "text/plain": [
              "[1]  4  7 13 16 19 22 25 28"
            ]
          },
          "metadata": {}
        }
      ]
    },
    {
      "cell_type": "markdown",
      "source": [
        "Finally, show how to delete the 4th, 5th, and 7th indexes from the vector and update the vector so they are forever removed from the vector.\n",
        "\n",
        "Hint: there is a fairly simple way to do this in one line, such that you don't have to run a separate command for each removal."
      ],
      "metadata": {
        "id": "Rmci-rVCtq-C"
      }
    },
    {
      "cell_type": "code",
      "source": [
        "#\n",
        "s2 <- s1[-4][-4][-5]\n",
        "s2"
      ],
      "metadata": {
        "id": "y1k0NHNruFX2",
        "colab": {
          "base_uri": "https://localhost:8080/",
          "height": 34
        },
        "outputId": "740d7500-63d1-4d07-fc90-a4c04b856c28"
      },
      "execution_count": 20,
      "outputs": [
        {
          "output_type": "display_data",
          "data": {
            "text/html": [
              "<style>\n",
              ".list-inline {list-style: none; margin:0; padding: 0}\n",
              ".list-inline>li {display: inline-block}\n",
              ".list-inline>li:not(:last-child)::after {content: \"\\00b7\"; padding: 0 .5ex}\n",
              "</style>\n",
              "<ol class=list-inline><li>4</li><li>7</li><li>10</li><li>19</li><li>25</li><li>28</li></ol>\n"
            ],
            "text/markdown": "1. 4\n2. 7\n3. 10\n4. 19\n5. 25\n6. 28\n\n\n",
            "text/latex": "\\begin{enumerate*}\n\\item 4\n\\item 7\n\\item 10\n\\item 19\n\\item 25\n\\item 28\n\\end{enumerate*}\n",
            "text/plain": [
              "[1]  4  7 10 19 25 28"
            ]
          },
          "metadata": {}
        }
      ]
    },
    {
      "cell_type": "markdown",
      "source": [
        "## 4. Create a Data Frame (3 pts)\n",
        "\n",
        "In the cell below create a data frame with 10 observations (rows) and 5 variables (columns) each. This data frame will describe some of your favorite musical performers. You can use real or fictitious data to populate your data frame.\n",
        "\n",
        "Variables:\n",
        "  - `artist` - Artist or band name\n",
        "  - `category` - Rock, Pop, Country, Hip-hop, Jazz, Classical, Soul, Other. (Try to distribute your selections here)\n",
        "  - `size` - (number of members, 1-?)\n",
        "  - `start` - Debut year of artist.\n",
        "  - `grammy` - Grammmy winner? `TRUE` | `FALSE`\n",
        "\n",
        "First create vectors for each variable populated with your own performer data. Then create a data frame from these vectors (be sure to assign column names too) and assign it to a named variable such as `df`."
      ],
      "metadata": {
        "id": "-2ZaFcCCv3o8"
      }
    },
    {
      "cell_type": "code",
      "source": [
        "#\n",
        "artist <- c(\"Giveon\", \"Kehlani\", \"Bryson Tiller\", \"Summer Walker\", \"Brent Faiyez\", \"Snoh Alegra\", \"Teyana Taylor\", \"Ella Mai\", \"Drake\", \"Lil Durk\")\n",
        "category <- c(\"Rhythm & Blues\", \"Rhythm & Blues\", \"Rhythm & Blues\", \"Rhythm & Blues\", \"Rhythm & Blues\", \"Rhythm & Blues\", \"Rhythm & Blues\", \"Rhythm & Blues\", \"Hip Hop\", \"Hip Hop\")\n",
        "size <- c(1,1,1,1,1,1,1,1,1,1)\n",
        "start <- c(2018, 2015, 2014, 2018, 2016, 2020, 2018, 2018, 2008, 2016)\n",
        "grammy <- c(FALSE,FALSE,FALSE,FALSE,FALSE,FALSE,TRUE,FALSE,TRUE,FALSE)\n",
        "\n",
        "df <- data.frame(Artist=artist, Genre=category, Number_of_Musicians= size, Start_of_Career= start, Have_they_won_a_Grammy=grammy)\n",
        "df"
      ],
      "metadata": {
        "id": "V4nBsdVsyauQ",
        "colab": {
          "base_uri": "https://localhost:8080/",
          "height": 412
        },
        "outputId": "41c13fa2-ecde-456f-c591-cee5803546eb"
      },
      "execution_count": 12,
      "outputs": [
        {
          "output_type": "display_data",
          "data": {
            "text/html": [
              "<table class=\"dataframe\">\n",
              "<caption>A data.frame: 10 × 5</caption>\n",
              "<thead>\n",
              "\t<tr><th scope=col>Artist</th><th scope=col>Genre</th><th scope=col>Number_of_Musicians</th><th scope=col>Start_of_Career</th><th scope=col>Have_they_won_a_Grammy</th></tr>\n",
              "\t<tr><th scope=col>&lt;chr&gt;</th><th scope=col>&lt;chr&gt;</th><th scope=col>&lt;dbl&gt;</th><th scope=col>&lt;dbl&gt;</th><th scope=col>&lt;lgl&gt;</th></tr>\n",
              "</thead>\n",
              "<tbody>\n",
              "\t<tr><td><span style=white-space:pre-wrap>Giveon       </span></td><td>Rhythm &amp; Blues</td><td>1</td><td>2018</td><td>FALSE</td></tr>\n",
              "\t<tr><td><span style=white-space:pre-wrap>Kehlani      </span></td><td>Rhythm &amp; Blues</td><td>1</td><td>2015</td><td>FALSE</td></tr>\n",
              "\t<tr><td>Bryson Tiller</td><td>Rhythm &amp; Blues</td><td>1</td><td>2014</td><td>FALSE</td></tr>\n",
              "\t<tr><td>Summer Walker</td><td>Rhythm &amp; Blues</td><td>1</td><td>2018</td><td>FALSE</td></tr>\n",
              "\t<tr><td>Brent Faiyez </td><td>Rhythm &amp; Blues</td><td>1</td><td>2016</td><td>FALSE</td></tr>\n",
              "\t<tr><td><span style=white-space:pre-wrap>Snoh Alegra  </span></td><td>Rhythm &amp; Blues</td><td>1</td><td>2020</td><td>FALSE</td></tr>\n",
              "\t<tr><td>Teyana Taylor</td><td>Rhythm &amp; Blues</td><td>1</td><td>2018</td><td> TRUE</td></tr>\n",
              "\t<tr><td><span style=white-space:pre-wrap>Ella Mai     </span></td><td>Rhythm &amp; Blues</td><td>1</td><td>2018</td><td>FALSE</td></tr>\n",
              "\t<tr><td>Drake        </td><td>Hip Hop       </td><td>1</td><td>2008</td><td> TRUE</td></tr>\n",
              "\t<tr><td>Lil Durk     </td><td>Hip Hop       </td><td>1</td><td>2016</td><td>FALSE</td></tr>\n",
              "</tbody>\n",
              "</table>\n"
            ],
            "text/markdown": "\nA data.frame: 10 × 5\n\n| Artist &lt;chr&gt; | Genre &lt;chr&gt; | Number_of_Musicians &lt;dbl&gt; | Start_of_Career &lt;dbl&gt; | Have_they_won_a_Grammy &lt;lgl&gt; |\n|---|---|---|---|---|\n| Giveon        | Rhythm &amp; Blues | 1 | 2018 | FALSE |\n| Kehlani       | Rhythm &amp; Blues | 1 | 2015 | FALSE |\n| Bryson Tiller | Rhythm &amp; Blues | 1 | 2014 | FALSE |\n| Summer Walker | Rhythm &amp; Blues | 1 | 2018 | FALSE |\n| Brent Faiyez  | Rhythm &amp; Blues | 1 | 2016 | FALSE |\n| Snoh Alegra   | Rhythm &amp; Blues | 1 | 2020 | FALSE |\n| Teyana Taylor | Rhythm &amp; Blues | 1 | 2018 |  TRUE |\n| Ella Mai      | Rhythm &amp; Blues | 1 | 2018 | FALSE |\n| Drake         | Hip Hop        | 1 | 2008 |  TRUE |\n| Lil Durk      | Hip Hop        | 1 | 2016 | FALSE |\n\n",
            "text/latex": "A data.frame: 10 × 5\n\\begin{tabular}{lllll}\n Artist & Genre & Number\\_of\\_Musicians & Start\\_of\\_Career & Have\\_they\\_won\\_a\\_Grammy\\\\\n <chr> & <chr> & <dbl> & <dbl> & <lgl>\\\\\n\\hline\n\t Giveon        & Rhythm \\& Blues & 1 & 2018 & FALSE\\\\\n\t Kehlani       & Rhythm \\& Blues & 1 & 2015 & FALSE\\\\\n\t Bryson Tiller & Rhythm \\& Blues & 1 & 2014 & FALSE\\\\\n\t Summer Walker & Rhythm \\& Blues & 1 & 2018 & FALSE\\\\\n\t Brent Faiyez  & Rhythm \\& Blues & 1 & 2016 & FALSE\\\\\n\t Snoh Alegra   & Rhythm \\& Blues & 1 & 2020 & FALSE\\\\\n\t Teyana Taylor & Rhythm \\& Blues & 1 & 2018 &  TRUE\\\\\n\t Ella Mai      & Rhythm \\& Blues & 1 & 2018 & FALSE\\\\\n\t Drake         & Hip Hop        & 1 & 2008 &  TRUE\\\\\n\t Lil Durk      & Hip Hop        & 1 & 2016 & FALSE\\\\\n\\end{tabular}\n",
            "text/plain": [
              "   Artist        Genre          Number_of_Musicians Start_of_Career\n",
              "1  Giveon        Rhythm & Blues 1                   2018           \n",
              "2  Kehlani       Rhythm & Blues 1                   2015           \n",
              "3  Bryson Tiller Rhythm & Blues 1                   2014           \n",
              "4  Summer Walker Rhythm & Blues 1                   2018           \n",
              "5  Brent Faiyez  Rhythm & Blues 1                   2016           \n",
              "6  Snoh Alegra   Rhythm & Blues 1                   2020           \n",
              "7  Teyana Taylor Rhythm & Blues 1                   2018           \n",
              "8  Ella Mai      Rhythm & Blues 1                   2018           \n",
              "9  Drake         Hip Hop        1                   2008           \n",
              "10 Lil Durk      Hip Hop        1                   2016           \n",
              "   Have_they_won_a_Grammy\n",
              "1  FALSE                 \n",
              "2  FALSE                 \n",
              "3  FALSE                 \n",
              "4  FALSE                 \n",
              "5  FALSE                 \n",
              "6  FALSE                 \n",
              "7   TRUE                 \n",
              "8  FALSE                 \n",
              "9   TRUE                 \n",
              "10 FALSE                 "
            ]
          },
          "metadata": {}
        }
      ]
    },
    {
      "cell_type": "markdown",
      "source": [
        "## 5. Filter/Query a Data Frame (2 pts)\n",
        "\n",
        "Use the data frame you created above and show how to perform the following queries."
      ],
      "metadata": {
        "id": "nG5m-FIRydNU"
      }
    },
    {
      "cell_type": "code",
      "source": [
        "# Display the first 3 records and only the `artist`, `category` and `grammy` columns for each.\n",
        "df[1:3,-(3:4)]"
      ],
      "metadata": {
        "id": "OlmbfFi6zSgR",
        "colab": {
          "base_uri": "https://localhost:8080/",
          "height": 192
        },
        "outputId": "b091f0d6-0edb-41ec-8ac4-02560a03fdfe"
      },
      "execution_count": 24,
      "outputs": [
        {
          "output_type": "display_data",
          "data": {
            "text/html": [
              "<table class=\"dataframe\">\n",
              "<caption>A data.frame: 3 × 3</caption>\n",
              "<thead>\n",
              "\t<tr><th></th><th scope=col>Artist</th><th scope=col>Genre</th><th scope=col>Have_they_won_a_Grammy</th></tr>\n",
              "\t<tr><th></th><th scope=col>&lt;chr&gt;</th><th scope=col>&lt;chr&gt;</th><th scope=col>&lt;lgl&gt;</th></tr>\n",
              "</thead>\n",
              "<tbody>\n",
              "\t<tr><th scope=row>1</th><td><span style=white-space:pre-wrap>Giveon       </span></td><td>Rhythm &amp; Blues</td><td>FALSE</td></tr>\n",
              "\t<tr><th scope=row>2</th><td><span style=white-space:pre-wrap>Kehlani      </span></td><td>Rhythm &amp; Blues</td><td>FALSE</td></tr>\n",
              "\t<tr><th scope=row>3</th><td>Bryson Tiller</td><td>Rhythm &amp; Blues</td><td>FALSE</td></tr>\n",
              "</tbody>\n",
              "</table>\n"
            ],
            "text/markdown": "\nA data.frame: 3 × 3\n\n| <!--/--> | Artist &lt;chr&gt; | Genre &lt;chr&gt; | Have_they_won_a_Grammy &lt;lgl&gt; |\n|---|---|---|---|\n| 1 | Giveon        | Rhythm &amp; Blues | FALSE |\n| 2 | Kehlani       | Rhythm &amp; Blues | FALSE |\n| 3 | Bryson Tiller | Rhythm &amp; Blues | FALSE |\n\n",
            "text/latex": "A data.frame: 3 × 3\n\\begin{tabular}{r|lll}\n  & Artist & Genre & Have\\_they\\_won\\_a\\_Grammy\\\\\n  & <chr> & <chr> & <lgl>\\\\\n\\hline\n\t1 & Giveon        & Rhythm \\& Blues & FALSE\\\\\n\t2 & Kehlani       & Rhythm \\& Blues & FALSE\\\\\n\t3 & Bryson Tiller & Rhythm \\& Blues & FALSE\\\\\n\\end{tabular}\n",
            "text/plain": [
              "  Artist        Genre          Have_they_won_a_Grammy\n",
              "1 Giveon        Rhythm & Blues FALSE                 \n",
              "2 Kehlani       Rhythm & Blues FALSE                 \n",
              "3 Bryson Tiller Rhythm & Blues FALSE                 "
            ]
          },
          "metadata": {}
        }
      ]
    },
    {
      "cell_type": "code",
      "source": [
        "# Display the records for just one musical category, such as only Rock bands or only Hip-hop bands.\n",
        "df[ ,2:2]"
      ],
      "metadata": {
        "id": "-l_kpWSzzlhG",
        "colab": {
          "base_uri": "https://localhost:8080/",
          "height": 34
        },
        "outputId": "266ccc95-3cbe-4567-f999-c82b37b22dad"
      },
      "execution_count": 30,
      "outputs": [
        {
          "output_type": "display_data",
          "data": {
            "text/html": [
              "<style>\n",
              ".list-inline {list-style: none; margin:0; padding: 0}\n",
              ".list-inline>li {display: inline-block}\n",
              ".list-inline>li:not(:last-child)::after {content: \"\\00b7\"; padding: 0 .5ex}\n",
              "</style>\n",
              "<ol class=list-inline><li>'Rhythm &amp; Blues'</li><li>'Rhythm &amp; Blues'</li><li>'Rhythm &amp; Blues'</li><li>'Rhythm &amp; Blues'</li><li>'Rhythm &amp; Blues'</li><li>'Rhythm &amp; Blues'</li><li>'Rhythm &amp; Blues'</li><li>'Rhythm &amp; Blues'</li><li>'Hip Hop'</li><li>'Hip Hop'</li></ol>\n"
            ],
            "text/markdown": "1. 'Rhythm &amp; Blues'\n2. 'Rhythm &amp; Blues'\n3. 'Rhythm &amp; Blues'\n4. 'Rhythm &amp; Blues'\n5. 'Rhythm &amp; Blues'\n6. 'Rhythm &amp; Blues'\n7. 'Rhythm &amp; Blues'\n8. 'Rhythm &amp; Blues'\n9. 'Hip Hop'\n10. 'Hip Hop'\n\n\n",
            "text/latex": "\\begin{enumerate*}\n\\item 'Rhythm \\& Blues'\n\\item 'Rhythm \\& Blues'\n\\item 'Rhythm \\& Blues'\n\\item 'Rhythm \\& Blues'\n\\item 'Rhythm \\& Blues'\n\\item 'Rhythm \\& Blues'\n\\item 'Rhythm \\& Blues'\n\\item 'Rhythm \\& Blues'\n\\item 'Hip Hop'\n\\item 'Hip Hop'\n\\end{enumerate*}\n",
            "text/plain": [
              " [1] \"Rhythm & Blues\" \"Rhythm & Blues\" \"Rhythm & Blues\" \"Rhythm & Blues\"\n",
              " [5] \"Rhythm & Blues\" \"Rhythm & Blues\" \"Rhythm & Blues\" \"Rhythm & Blues\"\n",
              " [9] \"Hip Hop\"        \"Hip Hop\"       "
            ]
          },
          "metadata": {}
        }
      ]
    },
    {
      "cell_type": "markdown",
      "source": [
        "## Query a Data Frame using `tidyverse` (4 pts)\n",
        "\n",
        "1. Show how to load the library.\n",
        "2. Show how to glimpse basic features of the `starwars` data table.\n",
        "3. Create a query using tidyverse that retrieves the following data:\n",
        "    - Selects only these columns: `name`, `height`, `sex`, `species`.\n",
        "    - Filters for all species that are NOT Human.\n",
        "    - Arranges the resulting data in order by name.\n",
        "\n",
        "Show your output in a data frame."
      ],
      "metadata": {
        "id": "L-xnszjS0Byy"
      }
    },
    {
      "cell_type": "code",
      "source": [
        "#\n",
        "install.packages(\"tidyverse\")\n",
        "library(tidyverse)\n",
        "\n",
        "%>% = piping\n",
        "\n",
        "df %>%"
      ],
      "metadata": {
        "id": "yTMLzrxS0F4u",
        "colab": {
          "base_uri": "https://localhost:8080/",
          "height": 161
        },
        "outputId": "ef114674-e126-4bb9-bf93-0acb94861344"
      },
      "execution_count": 35,
      "outputs": [
        {
          "output_type": "error",
          "ename": "ERROR",
          "evalue": "ignored",
          "traceback": [
            "Error in parse(text = x, srcfile = src): <text>:5:1: unexpected SPECIAL\n4: \n5: %>%\n   ^\nTraceback:\n"
          ]
        }
      ]
    },
    {
      "cell_type": "code",
      "source": [
        "\n",
        "starwars %>%\n",
        "  select(name, height, sex, species) %>%\n",
        "  filter(species == \"NOT Human\") %>%\n",
        "  arrange(name)\n",
        "  na.omit()"
      ],
      "metadata": {
        "colab": {
          "base_uri": "https://localhost:8080/",
          "height": 107
        },
        "id": "-ub60VwfGvST",
        "outputId": "d04129f9-dff1-4001-c753-696928e973c9"
      },
      "execution_count": 34,
      "outputs": [
        {
          "output_type": "error",
          "ename": "ERROR",
          "evalue": "ignored",
          "traceback": [
            "Error in starwars %>% select(name, height, sex, species) %>% filter(species == : could not find function \"%>%\"\nTraceback:\n"
          ]
        }
      ]
    }
  ]
}