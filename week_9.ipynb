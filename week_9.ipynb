{
  "nbformat": 4,
  "nbformat_minor": 0,
  "metadata": {
    "colab": {
      "provenance": [],
      "include_colab_link": true
    },
    "kernelspec": {
      "name": "python3",
      "display_name": "Python 3"
    },
    "language_info": {
      "name": "python"
    }
  },
  "cells": [
    {
      "cell_type": "markdown",
      "metadata": {
        "id": "view-in-github",
        "colab_type": "text"
      },
      "source": [
        "<a href=\"https://colab.research.google.com/github/simoneminorr/ds1002-uqa9qp/blob/main/week_9.ipynb\" target=\"_parent\"><img src=\"https://colab.research.google.com/assets/colab-badge.svg\" alt=\"Open In Colab\"/></a>"
      ]
    },
    {
      "cell_type": "markdown",
      "source": [
        "# Homework - Week 9\n",
        "\n",
        "Complete the following blocks as specified in the directions. Run each cell to return the desired output. Save your notebook back to your GitHub repository and submit the GitHub URL to your notebook for review."
      ],
      "metadata": {
        "id": "phbaQTT5gy8A"
      }
    },
    {
      "cell_type": "markdown",
      "source": [
        "## Functions\n",
        "\n",
        "In the cell below define a function that takes one parameter (in the form of a list) called `names` and returns a simple greeting for each name, such as\n",
        "\n",
        "    \"Hello Natasha, it's so nice to meet you\"\n",
        "    \"Hello Sid, it's so nice to meet you\"\n",
        "\n",
        "Define the function and run it, and in another cell below call the function populated with a var of a list of names."
      ],
      "metadata": {
        "id": "38Pg39pMrDua"
      }
    },
    {
      "cell_type": "code",
      "source": [
        "def greetings_to_you_all(list):\n",
        "  for each in list:\n",
        "    print(\"Hello \" + each + \", it's so nice to meet you\")\n",
        "\n",
        "\n",
        "names = [\"Natasha\",\"Sid\",\"Emmanuel\",\"Caroline\",\"Julie\"]\n",
        "\n",
        "greetings_to_you_all(names)\n"
      ],
      "metadata": {
        "id": "kdFLCHtOg53p",
        "outputId": "3b5753fa-2677-49c5-a0f6-9b5f0143c29b",
        "colab": {
          "base_uri": "https://localhost:8080/"
        }
      },
      "execution_count": null,
      "outputs": [
        {
          "output_type": "stream",
          "name": "stdout",
          "text": [
            "Hello Natasha, it's so nice to meet you\n",
            "Hello Sid, it's so nice to meet you\n",
            "Hello Emmanuel, it's so nice to meet you\n",
            "Hello Caroline, it's so nice to meet you\n",
            "Hello Julie, it's so nice to meet you\n"
          ]
        }
      ]
    },
    {
      "cell_type": "markdown",
      "source": [
        "Using the following list, pass it into a function you define that will evaluate the list and return a count of how many items is in it. Be creative.\n",
        "\n",
        "```\n",
        "mylist = [\"Toronto\",\"Buffalo\",\"Syracuse\",\"Albany\",\"Schenectady\",\"Brooklyn\",\"Rome\",\"Ithaca\"]\n",
        "```"
      ],
      "metadata": {
        "id": "mXqNACpkrdUZ"
      }
    },
    {
      "cell_type": "code",
      "source": [
        "mylist = [\"Toronto\",\"Buffalo\",\"Syracuse\",\"Albany\",\"Schenectady\",\"Brooklyn\",\"Rome\",\"Ithaca\"]\n",
        "\n",
        "def count_list(list):\n",
        "  count = 0\n",
        "  for each in list:\n",
        "    count+=1\n",
        "\n",
        "  return count\n",
        "\n",
        "print(count_list(mylist))"
      ],
      "metadata": {
        "id": "mvxOzRSisg0a",
        "outputId": "5daf59b0-a84e-4bbd-8ea5-5f2106d01032",
        "colab": {
          "base_uri": "https://localhost:8080/"
        }
      },
      "execution_count": null,
      "outputs": [
        {
          "output_type": "stream",
          "name": "stdout",
          "text": [
            "8\n"
          ]
        }
      ]
    },
    {
      "cell_type": "markdown",
      "source": [
        "## Input Validation\n",
        "\n",
        "Write a function below that defines two input parameters as `bool` and returns a `bool`.\n",
        "In the cell below that, populate two variables with two different bools (True and False)\n",
        "and pass them into a call of your function."
      ],
      "metadata": {
        "id": "YU7FXSCXsFab"
      }
    },
    {
      "cell_type": "code",
      "source": [
        "def vals_less_than_or_equal_to_threshold (vals, thresh):\n",
        "  '''\n",
        "  PURPOSE: Given a list of values, compare each value against a threshold\n",
        "\n",
        "  INPUTS\n",
        "  vals  list of ints or floats\n",
        "  thresh  int or float\n",
        "\n",
        "  OUTPUT\n",
        "  bools list of booleans\n",
        "  '''\n",
        "\n",
        "  bools = []\n",
        "  for val in vals:\n",
        "     bools = [val <= thresh for val in vals]\n",
        "\n",
        "  return bools\n",
        "\n",
        "x= [3,11]\n",
        "thr= 4\n",
        "\n",
        "vals_less_than_or_equal_to_threshold(x,thr)"
      ],
      "metadata": {
        "id": "DGMJZjlysfHU",
        "outputId": "1e20161e-ce53-4298-c27d-2f40b11eb849",
        "colab": {
          "base_uri": "https://localhost:8080/"
        }
      },
      "execution_count": 1,
      "outputs": [
        {
          "output_type": "execute_result",
          "data": {
            "text/plain": [
              "[True, False]"
            ]
          },
          "metadata": {},
          "execution_count": 1
        }
      ]
    },
    {
      "cell_type": "markdown",
      "source": [
        "## Global Variables\n",
        "\n",
        "Define a global variable and populate it with a data type (int, str, bool, float, etc.)"
      ],
      "metadata": {
        "id": "xXZTr5fdsd5M"
      }
    },
    {
      "cell_type": "code",
      "source": [
        "global zz\n",
        "zz = \"I had too much sugar today\""
      ],
      "metadata": {
        "id": "HN8CFLVRs6_L"
      },
      "execution_count": null,
      "outputs": []
    },
    {
      "cell_type": "markdown",
      "source": [
        "Now create a function that prints out the global variable. Call the function and display the value of the var."
      ],
      "metadata": {
        "id": "G1Auc6l1s8F6"
      }
    },
    {
      "cell_type": "code",
      "source": [
        "def global_var(z):\n",
        "  return z\n",
        "\n",
        "\n",
        "print(global_var(zz))"
      ],
      "metadata": {
        "id": "Q6O0Ep_wtBWJ",
        "outputId": "491db7a6-00ac-4fe5-ad82-db2b376ddc80",
        "colab": {
          "base_uri": "https://localhost:8080/"
        }
      },
      "execution_count": null,
      "outputs": [
        {
          "output_type": "stream",
          "name": "stdout",
          "text": [
            "I had too much sugar today\n"
          ]
        }
      ]
    },
    {
      "cell_type": "markdown",
      "source": [
        "Now create a function that creates its own global var and populates it.\n",
        "Call the function and then print out the global var from outside of the function."
      ],
      "metadata": {
        "id": "IN2TRQI8tCC4"
      }
    },
    {
      "cell_type": "code",
      "source": [
        "def global_var():\n",
        "  zz= \"I had too much sugar today\"\n",
        "  print(zz)\n",
        "\n",
        "global_var()"
      ],
      "metadata": {
        "id": "Oz4rnmfTtKen",
        "outputId": "e65ec37d-9bc5-4c94-f8bd-51a91f33c76e",
        "colab": {
          "base_uri": "https://localhost:8080/"
        }
      },
      "execution_count": null,
      "outputs": [
        {
          "output_type": "stream",
          "name": "stdout",
          "text": [
            "I had too much sugar today\n"
          ]
        }
      ]
    },
    {
      "cell_type": "markdown",
      "source": [
        "Finally, write a function that updates the value of the global var you defined 3 cells above.\n",
        "\n",
        "1. Within the function, print out the global var you defined 3 cells above.\n",
        "2. Update the global var to have a new value.\n",
        "3. Within the function, print the new value of the global var.\n",
        "\n",
        "Call the function and once more print out the value of the global var from outside of the function."
      ],
      "metadata": {
        "id": "jv0dtym0tLZn"
      }
    },
    {
      "cell_type": "code",
      "source": [
        "#\n",
        "def update_global_var():\n",
        "  global zz\n",
        "  zz= \"I need vegatables\"\n",
        "\n",
        "update_global_var()\n",
        "print(zz)"
      ],
      "metadata": {
        "id": "pnX-hfKouLcG",
        "outputId": "31fc98f6-46d8-44bd-8170-a26af827efec",
        "colab": {
          "base_uri": "https://localhost:8080/"
        }
      },
      "execution_count": null,
      "outputs": [
        {
          "output_type": "stream",
          "name": "stdout",
          "text": [
            "I need vegatables\n"
          ]
        }
      ]
    }
  ]
}