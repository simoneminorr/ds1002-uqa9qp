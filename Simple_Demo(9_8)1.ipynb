{
  "nbformat": 4,
  "nbformat_minor": 0,
  "metadata": {
    "colab": {
      "provenance": [],
      "authorship_tag": "ABX9TyMggtaiplkzFKQNGI+uRil7",
      "include_colab_link": true
    },
    "kernelspec": {
      "name": "python3",
      "display_name": "Python 3"
    },
    "language_info": {
      "name": "python"
    }
  },
  "cells": [
    {
      "cell_type": "markdown",
      "metadata": {
        "id": "view-in-github",
        "colab_type": "text"
      },
      "source": [
        "<a href=\"https://colab.research.google.com/github/simoneminorr/ds1002-uqa9qp/blob/main/Simple_Demo(9_8)1.ipynb\" target=\"_parent\"><img src=\"https://colab.research.google.com/assets/colab-badge.svg\" alt=\"Open In Colab\"/></a>"
      ]
    },
    {
      "cell_type": "code",
      "execution_count": 6,
      "metadata": {
        "colab": {
          "base_uri": "https://localhost:8080/"
        },
        "id": "kdD14JPKGo_X",
        "outputId": "5b260cf2-1fd5-4680-a8d0-f506ad2c3ac3"
      },
      "outputs": [
        {
          "output_type": "stream",
          "name": "stdout",
          "text": [
            "No Match\n",
            "Hey I found italy\n",
            "No Match\n",
            "No Match\n",
            "No Match\n",
            "No Match\n"
          ]
        }
      ],
      "source": [
        "#a list of countries\n",
        "#if it was something the python holds on to it would be blue\n",
        "countries= [\"vietnam\", \"italy\",\"uzbekistan\",\"spain\", \"united states\",\"uruguay\"]\n",
        "lookfor= \"italy\"\n",
        "#have the full set of variables and then single variable from the list I'm looking for\n",
        "#lookfor is optional\n",
        "#first line has to be a dataset (of countries) and the second one has to be a variable in the data set (a countrie)\n",
        "\n",
        "#defines the header of your function\n",
        "#parameter is \"countries\" which I have populated with countries and it is not a parameter because I am plugging it into a function\n",
        "def find_things(countries, lookfor):\n",
        "  for xyz in countries:\n",
        "    if (xyz== lookfor): #conditional logic, no quotes around function\n",
        "      print (\"Hey I found \" + lookfor) #add space to the end of phrase in quotes because it will bring the two phrases in directly\n",
        "    else:\n",
        "      print(\"No Match\")\n",
        "#^ for loop which is going to take the list apart, you sort of made one item on the list another variable in which the function find_things() will find the variable the the list\n",
        "#: is used because it essentially says \"if this THEN that\"\n",
        "find_things(countries, lookfor) #makes the function run; the command"
      ]
    }
  ]
}